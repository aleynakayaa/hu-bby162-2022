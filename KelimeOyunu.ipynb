{
  "nbformat": 4,
  "nbformat_minor": 0,
  "metadata": {
    "colab": {
      "name": "Kelimeoyunu.ipynb",
      "provenance": [],
      "authorship_tag": "ABX9TyOmLwN2wLKE07gM7Hd5zzI/",
      "include_colab_link": true
    },
    "kernelspec": {
      "name": "python3",
      "display_name": "Python 3"
    },
    "language_info": {
      "name": "python"
    }
  },
  "cells": [
    {
      "cell_type": "markdown",
      "metadata": {
        "id": "view-in-github",
        "colab_type": "text"
      },
      "source": [
        "<a href=\"https://colab.research.google.com/github/aleynakayaa/hu-bby162-2022/blob/main/KelimeOyunu.ipynb\" target=\"_parent\"><img src=\"https://colab.research.google.com/assets/colab-badge.svg\" alt=\"Open In Colab\"/></a>"
      ]
    },
    {
      "cell_type": "code",
      "execution_count": 5,
      "metadata": {
        "colab": {
          "base_uri": "https://localhost:8080/"
        },
        "id": "8ly5snZWldq3",
        "outputId": "ec25bfdd-ee0a-4287-f817-94a24e55b330"
      },
      "outputs": [
        {
          "output_type": "stream",
          "name": "stdout",
          "text": [
            "Türkiyede tercih edilen en çok hava şirketi nedir?\n",
            "Tahmininizi giriniz: emirates\n",
            "Tahmininizi giriniz: singaporeAirlines\n",
            "Tahmininizi giriniz: DeltaAirlines\n",
            "Tahmininizi giriniz: THY\n",
            "Tebrikleeer!\n"
          ]
        }
      ],
      "source": [
        "print(\"Türkiyede tercih edilen en çok hava şirketi nedir?\")\n",
        "liste=[\"Pegasus\",\"THY\",\"Sunexpress\",\"AnadoluJet\",\"AtlasGlobal\"]\n",
        "while True:\n",
        "   tahmin = input(\"Tahmininizi giriniz: \")\n",
        "   if tahmin in liste:\n",
        "      print(\"Tebrikleeer!\")\n",
        "      break\n"
      ]
    }
  ]
}