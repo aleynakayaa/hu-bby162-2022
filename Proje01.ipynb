{
  "nbformat": 4,
  "nbformat_minor": 0,
  "metadata": {
    "colab": {
      "name": "Proje01.ipynb",
      "provenance": [],
      "authorship_tag": "ABX9TyOb7D1yyKI35Id8EYIY+ofS",
      "include_colab_link": true
    },
    "kernelspec": {
      "name": "python3",
      "display_name": "Python 3"
    },
    "language_info": {
      "name": "python"
    }
  },
  "cells": [
    {
      "cell_type": "markdown",
      "metadata": {
        "id": "view-in-github",
        "colab_type": "text"
      },
      "source": [
        "<a href=\"https://colab.research.google.com/github/aleynakayaa/hu-bby162-2022/blob/main/Proje01.ipynb\" target=\"_parent\"><img src=\"https://colab.research.google.com/assets/colab-badge.svg\" alt=\"Open In Colab\"/></a>"
      ]
    },
    {
      "cell_type": "code",
      "source": [
        "liste =[\"tavşan\", \"marul\", \"leopar\", \"salam\", \"demir\", \"tahta\"]\n",
        "secim =input(\"İndeks numarasınız giriniz: \")\n",
        "\n",
        "if secim. isdigit():\n",
        "   secim= int(secim)\n",
        "   listeToplam = len(liste)\n",
        "   if secim < listeToplam:\n",
        "       print(liste[secim])\n",
        "else:\n",
        "  print(\"İndeks dışı giriş..!\")"
      ],
      "metadata": {
        "id": "Lyh85J__Fbq3",
        "colab": {
          "base_uri": "https://localhost:8080/"
        },
        "outputId": "d0239729-55b9-434f-d3ce-fbb04f125ede"
      },
      "execution_count": 24,
      "outputs": [
        {
          "output_type": "stream",
          "name": "stdout",
          "text": [
            "İndeks numarasınız giriniz: bilmem\n",
            "İndeks dışı giriş..!\n"
          ]
        }
      ]
    }
  ]
}