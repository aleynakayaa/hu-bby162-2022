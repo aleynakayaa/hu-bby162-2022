{
  "nbformat": 4,
  "nbformat_minor": 0,
  "metadata": {
    "colab": {
      "name": "veritabani.txt",
      "provenance": [],
      "authorship_tag": "ABX9TyNgUvWY+NVh0u2WfJgX/LzJ",
      "include_colab_link": true
    },
    "kernelspec": {
      "name": "python3",
      "display_name": "Python 3"
    },
    "language_info": {
      "name": "python"
    }
  },
  "cells": [
    {
      "cell_type": "markdown",
      "metadata": {
        "id": "view-in-github",
        "colab_type": "text"
      },
      "source": [
        "<a href=\"https://colab.research.google.com/github/aleynakayaa/hu-bby162-2022/blob/main/veritabani.txt.ipynb\" target=\"_parent\"><img src=\"https://colab.research.google.com/assets/colab-badge.svg\" alt=\"Open In Colab\"/></a>"
      ]
    },
    {
      "cell_type": "code",
      "execution_count": null,
      "metadata": {
        "id": "J1j11dAbZlvf",
        "outputId": "40a11a09-544b-4092-92dd-a7e1aa21ce80",
        "colab": {
          "base_uri": "https://localhost:8080/",
          "height": 135
        }
      },
      "outputs": [
        {
          "output_type": "error",
          "ename": "SyntaxError",
          "evalue": "ignored",
          "traceback": [
            "\u001b[0;36m  File \u001b[0;32m\"<ipython-input-2-278e4508ff74>\"\u001b[0;36m, line \u001b[0;32m22\u001b[0m\n\u001b[0;31m    def kayitAra():\u001b[0m\n\u001b[0m      ^\u001b[0m\n\u001b[0;31mSyntaxError\u001b[0m\u001b[0;31m:\u001b[0m invalid syntax\n"
          ]
        }
      ],
      "source": [
        "Sırça Köşk - Sabahattin Ali - 2021 - Yapı Kredi Yayınları\n",
        "Yorgun Savaşçı - Kemal Tahir - 2016 - İthaki Yayınları\n",
        "İnsan Ne İle Yaşar - Lev Tolstoy - 2021 - Mekika Yayınları\n",
        "Zeytindağı - Falih Rıfkı Atay - 2021 - Pozitif Yayınları\n",
        "Kuyucaklı Yusuf - Sabahttin Ali - 2021 - Can Modern Yayınları"
      ]
    }
  ]
}