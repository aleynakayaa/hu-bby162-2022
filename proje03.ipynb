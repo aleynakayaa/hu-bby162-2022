{
  "cells": [
    {
      "cell_type": "markdown",
      "metadata": {
        "id": "view-in-github",
        "colab_type": "text"
      },
      "source": [
        "<a href=\"https://colab.research.google.com/github/aleynakayaa/hu-bby162-2022/blob/main/proje03.ipynb\" target=\"_parent\"><img src=\"https://colab.research.google.com/assets/colab-badge.svg\" alt=\"Open In Colab\"/></a>"
      ]
    },
    {
      "cell_type": "code",
      "execution_count": null,
      "metadata": {
        "colab": {
          "background_save": true
        },
        "id": "PuQvma8SG5MP",
        "outputId": "77326d6a-5c6f-4614-b517-327d45ec6218"
      },
      "outputs": [
        {
          "name": "stdout",
          "output_type": "stream",
          "text": [
            "Teste Hoş geldiniz...\n",
            "Cevaplarınızı evet ya da hayır olarak giriniz.\n",
            "1. soru-1)Voldemort bir ölüm yiyen midir?\n"
          ]
        },
        {
          "ename": "KeyboardInterrupt",
          "evalue": "ignored",
          "output_type": "error",
          "traceback": [
            "\u001b[0;31m---------------------------------------------------------------------------\u001b[0m",
            "\u001b[0;31mKeyboardInterrupt\u001b[0m                         Traceback (most recent call last)",
            "\u001b[0;32m/usr/local/lib/python3.7/dist-packages/ipykernel/kernelbase.py\u001b[0m in \u001b[0;36m_input_request\u001b[0;34m(self, prompt, ident, parent, password)\u001b[0m\n\u001b[1;32m    728\u001b[0m             \u001b[0;32mtry\u001b[0m\u001b[0;34m:\u001b[0m\u001b[0;34m\u001b[0m\u001b[0;34m\u001b[0m\u001b[0m\n\u001b[0;32m--> 729\u001b[0;31m                 \u001b[0mident\u001b[0m\u001b[0;34m,\u001b[0m \u001b[0mreply\u001b[0m \u001b[0;34m=\u001b[0m \u001b[0mself\u001b[0m\u001b[0;34m.\u001b[0m\u001b[0msession\u001b[0m\u001b[0;34m.\u001b[0m\u001b[0mrecv\u001b[0m\u001b[0;34m(\u001b[0m\u001b[0mself\u001b[0m\u001b[0;34m.\u001b[0m\u001b[0mstdin_socket\u001b[0m\u001b[0;34m,\u001b[0m \u001b[0;36m0\u001b[0m\u001b[0;34m)\u001b[0m\u001b[0;34m\u001b[0m\u001b[0;34m\u001b[0m\u001b[0m\n\u001b[0m\u001b[1;32m    730\u001b[0m             \u001b[0;32mexcept\u001b[0m \u001b[0mException\u001b[0m\u001b[0;34m:\u001b[0m\u001b[0;34m\u001b[0m\u001b[0;34m\u001b[0m\u001b[0m\n",
            "\u001b[0;32m/usr/local/lib/python3.7/dist-packages/jupyter_client/session.py\u001b[0m in \u001b[0;36mrecv\u001b[0;34m(self, socket, mode, content, copy)\u001b[0m\n\u001b[1;32m    802\u001b[0m         \u001b[0;32mtry\u001b[0m\u001b[0;34m:\u001b[0m\u001b[0;34m\u001b[0m\u001b[0;34m\u001b[0m\u001b[0m\n\u001b[0;32m--> 803\u001b[0;31m             \u001b[0mmsg_list\u001b[0m \u001b[0;34m=\u001b[0m \u001b[0msocket\u001b[0m\u001b[0;34m.\u001b[0m\u001b[0mrecv_multipart\u001b[0m\u001b[0;34m(\u001b[0m\u001b[0mmode\u001b[0m\u001b[0;34m,\u001b[0m \u001b[0mcopy\u001b[0m\u001b[0;34m=\u001b[0m\u001b[0mcopy\u001b[0m\u001b[0;34m)\u001b[0m\u001b[0;34m\u001b[0m\u001b[0;34m\u001b[0m\u001b[0m\n\u001b[0m\u001b[1;32m    804\u001b[0m         \u001b[0;32mexcept\u001b[0m \u001b[0mzmq\u001b[0m\u001b[0;34m.\u001b[0m\u001b[0mZMQError\u001b[0m \u001b[0;32mas\u001b[0m \u001b[0me\u001b[0m\u001b[0;34m:\u001b[0m\u001b[0;34m\u001b[0m\u001b[0;34m\u001b[0m\u001b[0m\n",
            "\u001b[0;32m/usr/local/lib/python3.7/dist-packages/zmq/sugar/socket.py\u001b[0m in \u001b[0;36mrecv_multipart\u001b[0;34m(self, flags, copy, track)\u001b[0m\n\u001b[1;32m    624\u001b[0m         \"\"\"\n\u001b[0;32m--> 625\u001b[0;31m         \u001b[0mparts\u001b[0m \u001b[0;34m=\u001b[0m \u001b[0;34m[\u001b[0m\u001b[0mself\u001b[0m\u001b[0;34m.\u001b[0m\u001b[0mrecv\u001b[0m\u001b[0;34m(\u001b[0m\u001b[0mflags\u001b[0m\u001b[0;34m,\u001b[0m \u001b[0mcopy\u001b[0m\u001b[0;34m=\u001b[0m\u001b[0mcopy\u001b[0m\u001b[0;34m,\u001b[0m \u001b[0mtrack\u001b[0m\u001b[0;34m=\u001b[0m\u001b[0mtrack\u001b[0m\u001b[0;34m)\u001b[0m\u001b[0;34m]\u001b[0m\u001b[0;34m\u001b[0m\u001b[0;34m\u001b[0m\u001b[0m\n\u001b[0m\u001b[1;32m    626\u001b[0m         \u001b[0;31m# have first part already, only loop while more to receive\u001b[0m\u001b[0;34m\u001b[0m\u001b[0;34m\u001b[0m\u001b[0;34m\u001b[0m\u001b[0m\n",
            "\u001b[0;32mzmq/backend/cython/socket.pyx\u001b[0m in \u001b[0;36mzmq.backend.cython.socket.Socket.recv\u001b[0;34m()\u001b[0m\n",
            "\u001b[0;32mzmq/backend/cython/socket.pyx\u001b[0m in \u001b[0;36mzmq.backend.cython.socket.Socket.recv\u001b[0;34m()\u001b[0m\n",
            "\u001b[0;32mzmq/backend/cython/socket.pyx\u001b[0m in \u001b[0;36mzmq.backend.cython.socket._recv_copy\u001b[0;34m()\u001b[0m\n",
            "\u001b[0;32m/usr/local/lib/python3.7/dist-packages/zmq/backend/cython/checkrc.pxd\u001b[0m in \u001b[0;36mzmq.backend.cython.checkrc._check_rc\u001b[0;34m()\u001b[0m\n",
            "\u001b[0;31mKeyboardInterrupt\u001b[0m: ",
            "\nDuring handling of the above exception, another exception occurred:\n",
            "\u001b[0;31mKeyboardInterrupt\u001b[0m                         Traceback (most recent call last)",
            "\u001b[0;32m<ipython-input-10-b58581656a4d>\u001b[0m in \u001b[0;36m<module>\u001b[0;34m()\u001b[0m\n\u001b[1;32m     14\u001b[0m \u001b[0mprint\u001b[0m\u001b[0;34m(\u001b[0m\u001b[0;34m\"1. \"\u001b[0m \u001b[0;34m+\u001b[0m \u001b[0mliste\u001b[0m\u001b[0;34m[\u001b[0m\u001b[0;36m0\u001b[0m\u001b[0;34m]\u001b[0m\u001b[0;34m)\u001b[0m\u001b[0;34m\u001b[0m\u001b[0;34m\u001b[0m\u001b[0m\n\u001b[1;32m     15\u001b[0m \u001b[0mtime\u001b[0m\u001b[0;34m.\u001b[0m\u001b[0msleep\u001b[0m\u001b[0;34m(\u001b[0m\u001b[0;36m10\u001b[0m\u001b[0;34m)\u001b[0m\u001b[0;34m\u001b[0m\u001b[0;34m\u001b[0m\u001b[0m\n\u001b[0;32m---> 16\u001b[0;31m \u001b[0mcevap\u001b[0m\u001b[0;34m=\u001b[0m \u001b[0minput\u001b[0m\u001b[0;34m(\u001b[0m\u001b[0;34m\"Cevabınız: \"\u001b[0m\u001b[0;34m)\u001b[0m\u001b[0;34m\u001b[0m\u001b[0;34m\u001b[0m\u001b[0m\n\u001b[0m\u001b[1;32m     17\u001b[0m \u001b[0;32mif\u001b[0m \u001b[0mcevap\u001b[0m \u001b[0;34m==\u001b[0m \u001b[0mcevaplar\u001b[0m\u001b[0;34m[\u001b[0m\u001b[0;36m0\u001b[0m\u001b[0;34m]\u001b[0m\u001b[0;34m:\u001b[0m\u001b[0;34m\u001b[0m\u001b[0;34m\u001b[0m\u001b[0m\n\u001b[1;32m     18\u001b[0m   \u001b[0mprint\u001b[0m\u001b[0;34m(\u001b[0m\u001b[0;34m\"Tebrikler, doğru cevap!\"\u001b[0m\u001b[0;34m)\u001b[0m\u001b[0;34m\u001b[0m\u001b[0;34m\u001b[0m\u001b[0m\n",
            "\u001b[0;32m/usr/local/lib/python3.7/dist-packages/ipykernel/kernelbase.py\u001b[0m in \u001b[0;36mraw_input\u001b[0;34m(self, prompt)\u001b[0m\n\u001b[1;32m    702\u001b[0m             \u001b[0mself\u001b[0m\u001b[0;34m.\u001b[0m\u001b[0m_parent_ident\u001b[0m\u001b[0;34m,\u001b[0m\u001b[0;34m\u001b[0m\u001b[0;34m\u001b[0m\u001b[0m\n\u001b[1;32m    703\u001b[0m             \u001b[0mself\u001b[0m\u001b[0;34m.\u001b[0m\u001b[0m_parent_header\u001b[0m\u001b[0;34m,\u001b[0m\u001b[0;34m\u001b[0m\u001b[0;34m\u001b[0m\u001b[0m\n\u001b[0;32m--> 704\u001b[0;31m             \u001b[0mpassword\u001b[0m\u001b[0;34m=\u001b[0m\u001b[0;32mFalse\u001b[0m\u001b[0;34m,\u001b[0m\u001b[0;34m\u001b[0m\u001b[0;34m\u001b[0m\u001b[0m\n\u001b[0m\u001b[1;32m    705\u001b[0m         )\n\u001b[1;32m    706\u001b[0m \u001b[0;34m\u001b[0m\u001b[0m\n",
            "\u001b[0;32m/usr/local/lib/python3.7/dist-packages/ipykernel/kernelbase.py\u001b[0m in \u001b[0;36m_input_request\u001b[0;34m(self, prompt, ident, parent, password)\u001b[0m\n\u001b[1;32m    732\u001b[0m             \u001b[0;32mexcept\u001b[0m \u001b[0mKeyboardInterrupt\u001b[0m\u001b[0;34m:\u001b[0m\u001b[0;34m\u001b[0m\u001b[0;34m\u001b[0m\u001b[0m\n\u001b[1;32m    733\u001b[0m                 \u001b[0;31m# re-raise KeyboardInterrupt, to truncate traceback\u001b[0m\u001b[0;34m\u001b[0m\u001b[0;34m\u001b[0m\u001b[0;34m\u001b[0m\u001b[0m\n\u001b[0;32m--> 734\u001b[0;31m                 \u001b[0;32mraise\u001b[0m \u001b[0mKeyboardInterrupt\u001b[0m\u001b[0;34m\u001b[0m\u001b[0;34m\u001b[0m\u001b[0m\n\u001b[0m\u001b[1;32m    735\u001b[0m             \u001b[0;32melse\u001b[0m\u001b[0;34m:\u001b[0m\u001b[0;34m\u001b[0m\u001b[0;34m\u001b[0m\u001b[0m\n\u001b[1;32m    736\u001b[0m                 \u001b[0;32mbreak\u001b[0m\u001b[0;34m\u001b[0m\u001b[0;34m\u001b[0m\u001b[0m\n",
            "\u001b[0;31mKeyboardInterrupt\u001b[0m: "
          ]
        }
      ],
      "source": [
        "import time \n",
        "\n",
        "print(\"Teste Hoş geldiniz...\")\n",
        "time.sleep(2)\n",
        "print(\"Cevaplarınızı evet ya da hayır olarak giriniz.\")\n",
        "time.sleep(2)\n",
        "\n",
        "\n",
        "liste=[\"soru-1)Voldemort bir ölüm yiyen midir?\", \"soru-2)Dünyanın en zengin insanı Aleyna Kayadır?\", \"soru-3)Türkiye 9 coğrafi bölgeden oluşmaktadır?\", \"soru-4)Türkiyenin en büyük gölü van gölü müdür?\", \"soru-5)Konya Türkiyenin başkenti midir?\" ]\n",
        "cevaplar=[\"evet\", \"hayır\",\"hayır\", \"evet\",\"hayır\" ]\n",
        "\n",
        "puan = 0\n",
        "\n",
        "print(\"1. \" + liste[0])\n",
        "time.sleep(10)\n",
        "cevap= input(\"Cevabınız: \")\n",
        "if cevap == cevaplar[0]:\n",
        "  print(\"Tebrikler, doğru cevap!\")\n",
        "  puan +=20\n",
        "else:\n",
        "  print(\"Yanlış bildiniz.\")\n",
        "\n",
        "print(\"2. \" + liste[1])\n",
        "cevap= input(\"Cevabınız: \")\n",
        "time.sleep(10)\n",
        "if cevap == cevaplar[1]:\n",
        "  print(\"Tebrikler, doğru cevap!\")\n",
        "  puan +=20\n",
        "else:\n",
        "  print(\"Yanlış bildiniz.\")\n",
        "\n",
        "print(\"3. \" + liste[2])\n",
        "cevap= input(\"Cevabınız: \")\n",
        "time.sleep(10)\n",
        "if cevap == cevaplar[2]:\n",
        "  print(\"Tebrikler, doğru cevap!\")\n",
        "  puan +=20\n",
        "else:\n",
        "  print(\"Yanlış bildiniz.\")\n",
        "\n",
        "print(\"4. \" + liste[3])\n",
        "cevap= input(\"Cevabınız: \")\n",
        "time.sleep(10)\n",
        "if cevap == cevaplar[3]:\n",
        "  print(\"Tebrikler, doğru cevap!\")\n",
        "  puan +=20\n",
        "else:\n",
        "  print(\"Yanlış bildiniz.\")\n",
        "\n",
        "print(\"5. \" + liste[4])\n",
        "cevap= input(\"Cevabınız: \")\n",
        "if cevap == cevaplar[4]:\n",
        "  print(\"Tebrikler, doğru cevap!\")\n",
        "  puan +=20\n",
        "else:\n",
        "  print(\"Yanlış bildiniz.\")\n",
        "\n",
        "\n",
        "\n",
        "print(puan)\n",
        "\n",
        "evet = 1 \n",
        "hayır = 2\n",
        "\n",
        "if puan == 0:\n",
        "  print(\"Hepsini yanlış bildiniz: 0 puan\")\n",
        "  print(\"Testi geçemediniz\")\n",
        "  testtekrar= input(\"Teste tekrardan başlamak ister misiniz? : evet/hayır\")\n",
        "  if testtekrar == evet:\n",
        "    print(\"Teste tekrardan başlıyorsunuz.\")\n",
        "  elif testtekrar == hayır: \n",
        "    print(\"Başka bir zaman artık :(\")\n",
        "\n",
        "elif puan == 20:\n",
        "  print(\"1 doğrunuz 4 yanlışınız var : 20 puan\")\n",
        "  print(\"Testi geçemediniz\")\n",
        "  testtekrar= input(\"Teste tekrardan başlamak ister misiniz? : evet/hayır\")\n",
        "  if testtekrar == evet:\n",
        "    print(\"Teste tekrardan başlıyorsunuz.\")\n",
        "  elif testtekrar == hayır: \n",
        "    print(\"Başka bir zaman artık :(\")\n",
        "\n",
        "elif puan == 40:\n",
        "  print(\"2 doğrunuz 3 yanlışınız var : 40 puan\")\n",
        "  print(\"Testi geçemediniz\")\n",
        "  testtekrar= input(\"Teste tekrardan başlamak ister misiniz? : evet/hayır\")\n",
        "  if testtekrar == evet:\n",
        "    print(\"Teste tekrardan başlıyorsunuz.\")\n",
        "  elif testtekrar == hayır: \n",
        "    print(\"Başka bir zaman artık :(\")\n",
        "\n",
        "elif puan == 60:\n",
        "  print(\"3 doğrunuz 2 yanlışınız var : 60 puan\")\n",
        "  print(\"Testi geçtiniz.\")\n",
        "  print(\"TEBRİKLER...\")\n",
        "\n",
        "elif puan == 80:\n",
        "  print(\"4 doğrunuz 1 yanlışınız var : 80 puan\")\n",
        "  print(\"Testi geçtiniz\")\n",
        "  print(\"TEBRİKLER...\")\n",
        "\n",
        "elif puan == 100:\n",
        "  print(\"Hepsini doğru bildiniz: 100 puan\")\n",
        "  print(\"Testi geçtiniz\")\n",
        "  print(\"TEBRİKLER...\")\n",
        "  \n",
        "  \n"
      ]
    }
  ],
  "metadata": {
    "colab": {
      "name": "proje03.ipynb",
      "provenance": [],
      "authorship_tag": "ABX9TyN3/1j0TaabmLcPRgNePtNk",
      "include_colab_link": true
    },
    "kernelspec": {
      "display_name": "Python 3",
      "name": "python3"
    },
    "language_info": {
      "name": "python"
    }
  },
  "nbformat": 4,
  "nbformat_minor": 0
}