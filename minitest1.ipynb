{
  "nbformat": 4,
  "nbformat_minor": 0,
  "metadata": {
    "colab": {
      "name": "minitest1.ipynb",
      "provenance": [],
      "authorship_tag": "ABX9TyObiHYSrGdIMhZC85g+f8Cs",
      "include_colab_link": true
    },
    "kernelspec": {
      "name": "python3",
      "display_name": "Python 3"
    },
    "language_info": {
      "name": "python"
    }
  },
  "cells": [
    {
      "cell_type": "markdown",
      "metadata": {
        "id": "view-in-github",
        "colab_type": "text"
      },
      "source": [
        "<a href=\"https://colab.research.google.com/github/aleynakayaa/hu-bby162-2022/blob/main/minitest1.ipynb\" target=\"_parent\"><img src=\"https://colab.research.google.com/assets/colab-badge.svg\" alt=\"Open In Colab\"/></a>"
      ]
    },
    {
      "cell_type": "code",
      "source": [
        ""
      ],
      "metadata": {
        "id": "C-vXeilqoCs9"
      },
      "execution_count": null,
      "outputs": []
    },
    {
      "cell_type": "code",
      "source": [
        "\n"
      ],
      "metadata": {
        "id": "-OTZfvfRvYcK"
      },
      "execution_count": null,
      "outputs": []
    },
    {
      "cell_type": "code",
      "execution_count": 25,
      "metadata": {
        "colab": {
          "base_uri": "https://localhost:8080/"
        },
        "id": "J2lYxx8ggWWp",
        "outputId": "c41be0ad-3662-4d96-b732-6f05867804c5"
      },
      "outputs": [
        {
          "output_type": "stream",
          "name": "stdout",
          "text": [
            "Bu güzel teste hoşgeldiniz efendim...\n",
            "cevaplarınızı a ya da b olarak giriniz.\n",
            "1. arjantin\n",
            "Cevabınız: a\n",
            "Helal olsun, doğru bildin!\n",
            "2. moskova\n",
            "Cevabınız: b\n",
            "Helal olsun, doğru bildin!\n",
            "3. irlanda\n",
            "Cevabınız: a\n",
            "Yanlış bildiniz.\n",
            "4. kore\n",
            "Cevabınız: a\n",
            "Helal olsun, doğru bildin!\n",
            "5. türkiye\n",
            "Cevabınız: b\n",
            "Helal olsun, doğru bildin!\n",
            "4\n"
          ]
        }
      ],
      "source": [
        "#MiniTest\n",
        "print(\"Bu güzel teste hoşgeldiniz efendim...\")\n",
        "print(\"cevaplarınızı a ya da b olarak giriniz.\")\n",
        "\n",
        "sorular = [\"arjantin\",\"moskova\",\"irlanda\",\"kore\",\"türkiye\"]\n",
        "cevaplar = [\"a\",\"b\",\"b\",\"a\",\"b\"]\n",
        "\n",
        "puan = 0\n",
        "\n",
        "print(\"1. \" + sorular[0])\n",
        "cevap = input(\"Cevabınız: \")\n",
        "if cevap == cevaplar[0]:\n",
        "  print(\"Helal olsun, doğru bildin!\")\n",
        "  puan +=1\n",
        "else:\n",
        "  print(\"Yanlış bildiniz.\")\n",
        "print(\"2. \" + sorular[1])\n",
        "cevap = input(\"Cevabınız: \")\n",
        "if cevap == cevaplar[1]:\n",
        "  print(\"Helal olsun, doğru bildin!\")\n",
        "  puan += 1\n",
        "else:\n",
        "  print(\"Yanlış bildiniz.\")\n",
        "print(\"3. \" + sorular[2])\n",
        "cevap = input(\"Cevabınız: \")\n",
        "if cevap == cevaplar[2]:\n",
        "  print(\"Helal olsun, doğru bildin!\")\n",
        "  puan += 1\n",
        "else:\n",
        "  print(\"Yanlış bildiniz.\")\n",
        "print(\"4. \" + sorular[3])\n",
        "cevap = input(\"Cevabınız: \")\n",
        "if cevap == cevaplar[3]:\n",
        "  print(\"Helal olsun, doğru bildin!\")\n",
        "  puan += 1\n",
        "else:\n",
        "  print(\"Yanlış bildiniz.\")\n",
        "print(\"5. \" + sorular[4])\n",
        "cevap = input(\"Cevabınız: \")\n",
        "if cevap == cevaplar[4]:\n",
        "  print(\"Helal olsun, doğru bildin!\")\n",
        "  puan += 1\n",
        "else:\n",
        "  print(\"Yanlış bildiniz.\")\n",
        "\n",
        "print(puan)  "
      ]
    },
    {
      "cell_type": "code",
      "source": [
        ""
      ],
      "metadata": {
        "id": "ETUBOjDSvbA_"
      },
      "execution_count": null,
      "outputs": []
    }
  ]
}