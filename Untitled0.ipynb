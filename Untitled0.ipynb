{
  "nbformat": 4,
  "nbformat_minor": 0,
  "metadata": {
    "colab": {
      "name": "Untitled0.ipynb",
      "provenance": [],
      "authorship_tag": "ABX9TyNFSYLh7lcDpdtQV5qRERim",
      "include_colab_link": true
    },
    "kernelspec": {
      "name": "python3",
      "display_name": "Python 3"
    },
    "language_info": {
      "name": "python"
    }
  },
  "cells": [
    {
      "cell_type": "markdown",
      "metadata": {
        "id": "view-in-github",
        "colab_type": "text"
      },
      "source": [
        "<a href=\"https://colab.research.google.com/github/aleynakayaa/hu-bby162-2022/blob/main/Untitled0.ipynb\" target=\"_parent\"><img src=\"https://colab.research.google.com/assets/colab-badge.svg\" alt=\"Open In Colab\"/></a>"
      ]
    },
    {
      "cell_type": "code",
      "execution_count": 5,
      "metadata": {
        "colab": {
          "base_uri": "https://localhost:8080/"
        },
        "id": "a2DCJbGnP36j",
        "outputId": "4c3356b2-e1ca-4fe2-c026-bbc9f1c47253"
      },
      "outputs": [
        {
          "output_type": "stream",
          "name": "stdout",
          "text": [
            "Hatice\n",
            " Nur\n",
            "Dönmez \n"
          ]
        }
      ],
      "source": [
        "metin = \"Hatice Nur Dönmez \"\n",
        "dilimle = metin[:6]\n",
        "print(dilimle)\n",
        "metin2 = \"Hatice Nur Dönmez\"\n",
        "dilimle2 = metin[6: 10]\n",
        "print(dilimle2)\n",
        "metin3= \"Hatice Nur Dönmez\"\n",
        "dilimle3 = metin[-7:]\n",
        "print(dilimle3)\n",
        "#Çıktı:\n",
        "#Hatice\n",
        "#Nur\n",
        "#Dönmez\n"
      ]
    }
  ]
}