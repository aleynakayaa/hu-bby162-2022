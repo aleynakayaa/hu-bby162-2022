{
  "nbformat": 4,
  "nbformat_minor": 0,
  "metadata": {
    "colab": {
      "name": "Kelimeoyunu.ipynb",
      "provenance": [],
      "authorship_tag": "ABX9TyM0ElGlStw7Z4EJuOLs6q+W",
      "include_colab_link": true
    },
    "kernelspec": {
      "name": "python3",
      "display_name": "Python 3"
    },
    "language_info": {
      "name": "python"
    }
  },
  "cells": [
    {
      "cell_type": "markdown",
      "metadata": {
        "id": "view-in-github",
        "colab_type": "text"
      },
      "source": [
        "<a href=\"https://colab.research.google.com/github/aleynakayaa/hu-bby162-2022/blob/main/Kelimeoyunu.ipynb\" target=\"_parent\"><img src=\"https://colab.research.google.com/assets/colab-badge.svg\" alt=\"Open In Colab\"/></a>"
      ]
    },
    {
      "cell_type": "code",
      "execution_count": 7,
      "metadata": {
        "colab": {
          "base_uri": "https://localhost:8080/"
        },
        "id": "8ly5snZWldq3",
        "outputId": "8d9a2f41-1069-43bd-d1fd-3b2709009eb2"
      },
      "outputs": [
        {
          "output_type": "stream",
          "name": "stdout",
          "text": [
            "Türkiyede tercih edilen en çok hava şirketi nedir?\n",
            "Tahmininizi giriniz: emirates\n",
            "Bir dahakı sefere canım\n",
            "Tahmininizi giriniz: Pegasus\n",
            "Tebrikleeer,Aslanım benim!\n",
            "Tahmininizi giriniz: Singapore Airline\n",
            "Bir dahakı sefere canım\n",
            "Tahmininizi giriniz: AnadoluJet\n",
            "Tebrikleeer,Aslanım benim!\n",
            "Tahmininizi giriniz: United Airlines\n",
            "Bir dahakı sefere canım\n",
            "Oyunu kaybettin!\n"
          ]
        }
      ],
      "source": [
        "print(\"Türkiyede tercih edilen en çok hava şirketi nedir?\")\n",
        "liste=[\"Pegasus\",\"THY\",\"Sunexpress\",\"AnadoluJet\",\"AtlasGlobal\"]\n",
        "kalanHak=3\n",
        "while kalanHak > 0:\n",
        "   tahmin = input(\"Tahmininizi giriniz: \")\n",
        "   if tahmin in liste:\n",
        "      print(\"Tebrikleeer,Aslanım benim!\")\n",
        "   else:\n",
        "      print(\"Bir dahakı sefere canım\")\n",
        "      kalanHak = kalanHak -1\n",
        "if kalanHak ==0:\n",
        "   print(\"Oyunu kaybettin!\")\n",
        "if kalanHak ==3:\n",
        "   print(\"Mükemmel,Oyunu Kazandın!\")\n"
      ]
    }
  ]
}